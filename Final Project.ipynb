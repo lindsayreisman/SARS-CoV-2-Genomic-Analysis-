{
 "cells": [
  {
   "cell_type": "code",
   "execution_count": 126,
   "metadata": {},
   "outputs": [],
   "source": [
    "import re\n",
    "\n",
    "#first read NC_045512.fasta txt into list form to perform mutated operations\n",
    "\n",
    "input1 = open(\"/Users/lindsayreisman/Documents/NC_045512.fasta\", 'r')\n",
    "header = input1.readline() #skip first line\n",
    "NC_045512_list_version = [b for line in input1.read().split('\\n') for b in line]\n",
    "input1.close()\n",
    "\n",
    "\n",
    "#mutation stage\n",
    "#read SNP_coordinates txt to find coordinates to change\n",
    "\n",
    "input2 = open(\"/Users/lindsayreisman/Documents/countResult.txt\", \"r\")\n",
    "input2.readline() #skip first line\n",
    "count_dict = {}\n",
    "\n",
    "for line in input2.readlines():\n",
    "    \n",
    "    coordinate, change = line.split(\":\")\n",
    "    count_dict[int(coordinate)] = [change[1],change[4]] #[num1,num2]\n",
    "    \n",
    "    #Note int(coordinate) -1 to account for zero indexing\n",
    "    NC_045512_list_version[int(coordinate) - 1] = change[4]\n",
    "    \n",
    "#print(count_dict)    \n",
    "input2.close()\n",
    "\n",
    "NC_045512_mutated_string_final = \"\".join(NC_045512_list_version)\n",
    "\n",
    "# write mutated version to file\n",
    "with open(\"/Users/lindsayreisman/Documents/mutated_NC_045512.fasta.txt\", \"w\") as f:\n",
    "    \n",
    "    f.write(header)\n",
    "    f.write(NC_045512_mutated_string_final)\n",
    "\n",
    "# new_str = old_str[:i] + \"b\" + old_str[i+1:]\n",
    "def map_strain(): #iterate through each strain output file and map to mutated sequence \n",
    "    g = ['E','N','orf1ab','S','M','ORF10','ORF3a','ORF8'] #using variable \n",
    "    directory = '/Users/lindsayreisman/Documents/Final Project/'\n",
    "    for gene in g:  \n",
    "        ## make directory for each gene\n",
    "        os.mkdir(directory + '/Mutated Gene Strains/' + gene)\n",
    "        for i in os.listdir(directory+gene):\n",
    "            #print(i)\n",
    "            files = open(directory+gene+'/'+i)\n",
    "            r = files.read()\n",
    "            defline = r.split('\\n')[0]\n",
    "            seq = ''.join(r.split('\\n')[1:])\n",
    "            range1= int(r.split('-')[0].split(':')[2])\n",
    "            range2= int(r.split('-')[1].split('|')[0])\n",
    "            #print(seq)\n",
    "            #print(range1,range2)\n",
    "            # print(seq[range1-range1])\n",
    "            out = open(directory + '/Mutated Gene Strains/' + g + '/mutated_'+i, \"w\")\n",
    "            for x in range(range1, range2):\n",
    "                # print(seq[x-range1])\n",
    "                \n",
    "                if x in count_dict:\n",
    "                    if seq[x-range1-1] == count_dict[x][0]:\n",
    "                        seq = seq[:x-range1-1] + count_dict[x][1] + seq[x-range1:]\n",
    "                        #print(x-range1-1,count_dict[x], seq[x-range1-1:])\n",
    "                    #print(count_dict[x])\n",
    "            out.write(defline+'\\n'+seq)\n",
    "            #print(seq)\n",
    "            \n",
    "    \n",
    "map_strain()"
   ]
  },
  {
   "cell_type": "code",
   "execution_count": 130,
   "metadata": {},
   "outputs": [
    {
     "data": {
      "text/plain": [
       "4528616"
      ]
     },
     "execution_count": 130,
     "metadata": {},
     "output_type": "execute_result"
    }
   ],
   "source": [
    "content = ''\n",
    "directory = '/Users/lindsayreisman/Documents/Final Project/Mutated Gene Strains/orf1ab/'\n",
    "for i in os.listdir(directory):\n",
    "    files = open(directory+i)\n",
    "    #print(i)\n",
    "    r = files.read()\n",
    "    content += r + '\\n'+'\\n'\n",
    "    \n",
    "out = open(\"/Users/lindsayreisman/Documents/Final Project/ORF1ab_CDS.fasta\",'w')\n",
    "out.write(content)"
   ]
  },
  {
   "cell_type": "code",
   "execution_count": 173,
   "metadata": {},
   "outputs": [
    {
     "data": {
      "text/plain": [
       "2168450"
      ]
     },
     "execution_count": 173,
     "metadata": {},
     "output_type": "execute_result"
    }
   ],
   "source": [
    "from Bio import Entrez\n",
    "import re\n",
    "import os\n",
    "Entrez.email = \"ljr390@nyu.edu\"\n",
    "content = ''\n",
    "with open(\"/Users/lindsayreisman/Documents/Final Project/ORF1ab_CDS.fasta\", \"r\") as handle:\n",
    "    genes = handle.read() \n",
    "    #j = ''.join(genes) #join from readlines\n",
    "    all_dem_genes = genes.split('\\n\\n')\n",
    "    for dat_gene in all_dem_genes[:-1]:\n",
    "        n_split = dat_gene.split(':') #split based on colon \n",
    "        #print(n_split[:10])\n",
    "        locus = n_split[1] #capture the second index to query in Entrez \n",
    "        #print(locus)\n",
    "    #print(IDlist)\n",
    "        handle = Entrez.efetch(db =\"nucleotide\", id= locus  ,rettype=\"gb\", retmode=\"xml\")\n",
    "        record = Entrez.read(handle)\n",
    "        #print(gene,seq,locus)\n",
    "        #for r in record[0]:\n",
    "        #    print(r)\n",
    "        #print(len(record[0]['GBSeq_feature-table']))\n",
    "        feature_table = record[0]['GBSeq_feature-table'] # find the data to use in the in the directory \n",
    "        for f in feature_table:\n",
    "            if f['GBFeature_key'] == 'CDS':  \n",
    "                #print(f)\n",
    "                        \n",
    "                for G in f['GBFeature_quals']:\n",
    "                    if G['GBQualifier_name']== 'gene':\n",
    "                         gene_v1 = G['GBQualifier_value'].upper()\n",
    "                    if G['GBQualifier_name']== 'translation':\n",
    "                         gene_v2 = G['GBQualifier_value']\n",
    "                    if G['GBQualifier_name']== 'protein_id':\n",
    "                         gene_v3 = G['GBQualifier_value']\n",
    "                    if G['GBQualifier_name']== 'product':\n",
    "                        gene_v4 = G['GBQualifier_value']\n",
    "\n",
    "                content += 'gene:' + gene_v1 + '\\t' + 'Protein Id:' + gene_v3 + '\\t'+ 'Protein Name:'+ gene_v4 + '\\n' + gene_v2 + '\\n' + '\\n'\n",
    "\n",
    "            \n",
    "gene_file = \"/Users/lindsayreisman/Documents/Final Project/ORF1ab_PP.fasta\" #create an output to write to \n",
    "\n",
    "out = open(gene_file, 'w')\n",
    "out.write(content)\n",
    "            #print(gene_v1, os.listdir('./Final Project/Translated Data/'))\n",
    "            #step_1 = ['E','N','orf1ab','S','M','ORF10','ORF3a','ORF8'] \n",
    "    \n",
    "#                 if gene_v1 not in os.listdir('./Final Project/Translated Data/'):\n",
    "#                     if gene_v1.lower() not in os.listdir('./Final Project/Translated Data/'):\n",
    "#                         os.mkdir('./Final Project/Translated Data/' + gene_v1)\n",
    "#                 gene_file = \"./Final Project/Translated Data/\"+gene_v1+'/'+(gene_v1+'_'+gene_v3)+'.txt'#create an output to write to \n",
    "#                 out = open(gene_file, 'w') #the file being written to \n",
    "#                 out.write(gene_v1 + '\\t' + gene_v3 + '\\n'+ gene_v2)\n",
    "\n",
    "                    \n"
   ]
  },
  {
   "cell_type": "code",
   "execution_count": null,
   "metadata": {},
   "outputs": [],
   "source": []
  },
  {
   "cell_type": "code",
   "execution_count": null,
   "metadata": {},
   "outputs": [],
   "source": []
  },
  {
   "cell_type": "code",
   "execution_count": null,
   "metadata": {},
   "outputs": [],
   "source": []
  },
  {
   "cell_type": "code",
   "execution_count": null,
   "metadata": {},
   "outputs": [],
   "source": []
  },
  {
   "cell_type": "code",
   "execution_count": null,
   "metadata": {},
   "outputs": [],
   "source": []
  },
  {
   "cell_type": "code",
   "execution_count": null,
   "metadata": {},
   "outputs": [],
   "source": [
    "\n",
    "    \n",
    "    "
   ]
  },
  {
   "cell_type": "code",
   "execution_count": null,
   "metadata": {},
   "outputs": [],
   "source": []
  }
 ],
 "metadata": {
  "kernelspec": {
   "display_name": "Python 3",
   "language": "python",
   "name": "python3"
  },
  "language_info": {
   "codemirror_mode": {
    "name": "ipython",
    "version": 3
   },
   "file_extension": ".py",
   "mimetype": "text/x-python",
   "name": "python",
   "nbconvert_exporter": "python",
   "pygments_lexer": "ipython3",
   "version": "3.7.4"
  }
 },
 "nbformat": 4,
 "nbformat_minor": 2
}
